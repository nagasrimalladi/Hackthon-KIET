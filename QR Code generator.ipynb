{
 "cells": [
  {
   "cell_type": "code",
   "execution_count": null,
   "id": "7d77ae42",
   "metadata": {},
   "outputs": [],
   "source": [
    "import qrcode\n",
    "\n",
    "file_name = input(\"Enter file name:\")\n",
    "website = input(\"Enter the data / website link for the QR:\")\n",
    "\n",
    "qr = qrcode.QRCode(\n",
    "    version = 1,\n",
    "    error_correction = qrcode.constants.ERROR_CORRECT_L,\n",
    "    box_size=10,\n",
    "    border=4,\n",
    ")\n",
    "\n",
    "\n",
    "img = qrcode.make(f\"{website}\")\n",
    "img.save(f\"{file_name}.png\")\n",
    "\n",
    "qr.add_data(website)\n",
    "qr.make(fit=True)\n",
    "\n",
    "img = qr.make_image(fill_color=\"red\", back_color=\"black\")\n",
    "img.save(\"medium.png\")"
   ]
  },
  {
   "cell_type": "code",
   "execution_count": null,
   "id": "76e76956",
   "metadata": {},
   "outputs": [],
   "source": []
  }
 ],
 "metadata": {
  "kernelspec": {
   "display_name": "Python 3",
   "language": "python",
   "name": "python3"
  },
  "language_info": {
   "codemirror_mode": {
    "name": "ipython",
    "version": 3
   },
   "file_extension": ".py",
   "mimetype": "text/x-python",
   "name": "python",
   "nbconvert_exporter": "python",
   "pygments_lexer": "ipython3",
   "version": "3.8.8"
  }
 },
 "nbformat": 4,
 "nbformat_minor": 5
}
